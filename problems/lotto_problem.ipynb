{
 "cells": [
  {
   "cell_type": "markdown",
   "metadata": {},
   "source": [
    "# mini lotto\n",
    "- 구매자는 10부터 35까지 총 26개의 숫자 중 5개 선택\n",
    "- 당첨본호는 5개\n",
    "- 1등:5개 일치 ~ 꽝:0개 일치"
   ]
  },
  {
   "cell_type": "code",
   "execution_count": 1,
   "metadata": {},
   "outputs": [],
   "source": [
    "import random"
   ]
  },
  {
   "cell_type": "code",
   "execution_count": 2,
   "metadata": {
    "scrolled": true
   },
   "outputs": [],
   "source": [
    "def generateRandomLotto(n) :\n",
    "    list1 = []\n",
    "    for i in range(n) :\n",
    "        list1.append(random.sample(range(10,36),5))\n",
    "        \n",
    "    return(list1)"
   ]
  },
  {
   "cell_type": "code",
   "execution_count": 3,
   "metadata": {
    "scrolled": true
   },
   "outputs": [
    {
     "data": {
      "text/plain": [
       "[[17, 29, 34, 24, 27],\n",
       " [17, 34, 24, 11, 23],\n",
       " [20, 10, 21, 29, 26],\n",
       " [17, 27, 30, 35, 28],\n",
       " [27, 30, 34, 15, 35]]"
      ]
     },
     "execution_count": 3,
     "metadata": {},
     "output_type": "execute_result"
    }
   ],
   "source": [
    "generateRandomLotto(5)"
   ]
  },
  {
   "cell_type": "code",
   "execution_count": 4,
   "metadata": {},
   "outputs": [],
   "source": [
    "def showResult(winner,pile) :\n",
    "    \n",
    "    for j in range(10) :\n",
    "        pile1 = pile[j]; pile1.sort()\n",
    "        success_index = [] #맞춘 숫자 index\n",
    "        myindex = -1\n",
    "        \n",
    "        #모든 복권들의 숫자들은 sorting을 하였기 때문에\n",
    "        #내 복권 숫자들 기준으로 두번째 숫자가 맞추었다면\n",
    "        #그 앞의 숫자들은 확인해볼 필요가 없습니다.\n",
    "        \n",
    "        #따라서 myindex는 맞춘 숫자의 index이고,\n",
    "        #success_index는 myindex의 모음이라고 할 수 있습니다.\n",
    "        \n",
    "        for winner_num in winner :\n",
    "            for pile_num in pile1[myindex+1 :] :\n",
    "                #맞춘 다음부터 확인하기 때문에 myindex+1인 것입니다.\n",
    "\n",
    "                if winner_num == pile_num :\n",
    "                    myindex = pile1.index(pile_num)\n",
    "                    success_index.append(myindex)\n",
    "                    \n",
    "\n",
    "        match_number = len(success_index)\n",
    "        rank = str(6-match_number)+\"등\"\n",
    "        if match_number == 0 :\n",
    "            rank =\"꽝\"\n",
    "        \n",
    "        my_list = ['__','__','__','__','__']\n",
    "        for i in success_index :\n",
    "            my_list[i] = str(pile1[i])\n",
    "        my_list=\"[%s]\" % (','.join(my_list))    \n",
    "        \n",
    "        print(\"{} | \".format(pile1), \"{}\".format(my_list),\n",
    "              \"{}개가 일치하여 {}입니다\".format(match_number,rank))\n",
    "\n"
   ]
  },
  {
   "cell_type": "code",
   "execution_count": 5,
   "metadata": {},
   "outputs": [
    {
     "name": "stdout",
     "output_type": "stream",
     "text": [
      "로또를 10장 구매하였습니다.\n",
      "당첨 번호 : [10, 24, 28, 29, 33]\n",
      "\n",
      "*** 당첨 결과 ***\n",
      "[12, 28, 31, 32, 33] |  [__,28,__,__,33] 2개가 일치하여 4등입니다\n",
      "[12, 14, 15, 21, 30] |  [__,__,__,__,__] 0개가 일치하여 꽝입니다\n",
      "[23, 24, 32, 33, 35] |  [__,24,__,33,__] 2개가 일치하여 4등입니다\n",
      "[11, 13, 23, 31, 34] |  [__,__,__,__,__] 0개가 일치하여 꽝입니다\n",
      "[12, 16, 23, 24, 33] |  [__,__,__,24,33] 2개가 일치하여 4등입니다\n",
      "[13, 15, 22, 27, 35] |  [__,__,__,__,__] 0개가 일치하여 꽝입니다\n",
      "[16, 20, 23, 31, 34] |  [__,__,__,__,__] 0개가 일치하여 꽝입니다\n",
      "[19, 22, 24, 28, 35] |  [__,__,24,28,__] 2개가 일치하여 4등입니다\n",
      "[11, 12, 15, 19, 24] |  [__,__,__,__,24] 1개가 일치하여 5등입니다\n",
      "[13, 17, 21, 22, 29] |  [__,__,__,__,29] 1개가 일치하여 5등입니다\n"
     ]
    }
   ],
   "source": [
    "n = 10\n",
    "print (\"로또를 {}장 구매하였습니다.\".format(n))\n",
    "pile = generateRandomLotto(n)\n",
    "\n",
    "winner = generateRandomLotto(1)[0]\n",
    "winner.sort()\n",
    "print (\"당첨 번호 : {}\".format(winner))\n",
    "\n",
    "print (\"\\n*** 당첨 결과 ***\")\n",
    "showResult(winner, pile)\n"
   ]
  },
  {
   "cell_type": "code",
   "execution_count": null,
   "metadata": {},
   "outputs": [],
   "source": []
  }
 ],
 "metadata": {
  "kernelspec": {
   "display_name": "Python 3",
   "language": "python",
   "name": "python3"
  },
  "language_info": {
   "codemirror_mode": {
    "name": "ipython",
    "version": 3
   },
   "file_extension": ".py",
   "mimetype": "text/x-python",
   "name": "python",
   "nbconvert_exporter": "python",
   "pygments_lexer": "ipython3",
   "version": "3.6.5"
  }
 },
 "nbformat": 4,
 "nbformat_minor": 2
}
