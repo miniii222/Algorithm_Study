{
 "cells": [
  {
   "cell_type": "markdown",
   "metadata": {},
   "source": [
    "### 문제 1.\n",
    "\n",
    "가야할 거리와 현재 가진 돈을 입력 받아 택시를 탈 수 있는지 여부를 출력하는 프로그램을 작성하라.\n",
    "\n",
    "* input() 함수를 두 번 활용해 가야할 거리와 현재 가진 돈을 입력 받아 각각 distance, money 변수에 할당한다.\n",
    "* 가야할 거리, 즉 distance의 단위는 km이다.\n",
    "* 택시 요금은 기본 요금과 거리 비례 요금의 합으로 계산된다.\n",
    "* 기본 요금은 3,000원이며 거리비례 요금은 2km 초과한 거리에 대하여 1km당 704원으로 계산된다.\n",
    "* 시간에 따른 추가 요금은 없으며 계산된 택시 요금은 10원단위로 절하된다. (예. 계산된 금액이 3,709.95원인 경우 택시 요금은 3,700원)"
   ]
  },
  {
   "cell_type": "markdown",
   "metadata": {},
   "source": [
    "<b>채점 기준</b>\n",
    "* 결과 값이 천 단위 컴마로 구분되지 않은 경우 -1점\n",
    "* 결과 값이 10원 단위로 절하되지 않은 경우 -1점\n",
    "* 음수 입력, 문자열 입력 등 모든 종류의 오류를 발생시킬 수 있는 입력에 대하여 처리되지 않은 경우 -1점\n",
    "\n",
    "*문제에 명확하게 언급되지 않았더라도 실행 예시를 참고해 실행 예시와 똑같은 결과가 나오도록 코드를 작성한다."
   ]
  },
  {
   "cell_type": "markdown",
   "metadata": {},
   "source": [
    "<i>참고.</i> 천 단위 컴마로 구분하는 방법\n",
    "<pre><code>\n",
    "won = 30000\n",
    "print (\"{:,d}\".format(won))\n",
    ">>> 30,000\n",
    "</code></pre>"
   ]
  },
  {
   "cell_type": "code",
   "execution_count": 1,
   "metadata": {},
   "outputs": [
    {
     "name": "stdout",
     "output_type": "stream",
     "text": [
      "가야할 거리를 입력하세요 : 5\n",
      "현재 가진 돈을 입력하세요 : 10000\n",
      "택시 요금은 5,110원입니다.\n",
      "따라서 택시를 탈 수 있습니다.\n",
      "\n",
      "가야할 거리를 입력하세요 : 2\n",
      "현재 가진 돈을 입력하세요 : 2500\n",
      "택시 요금은 3,000원입니다.\n",
      "따라서 택시를 탈 수 없습니다.\n",
      "\n",
      "가야할 거리를 입력하세요 : -2\n",
      "현재 가진 돈을 입력하세요 : 3000\n",
      "입력이 제대로 되지 않았습니다.\n"
     ]
    }
   ],
   "source": [
    "#while문을 이용하여 제대로 입력되었을 경우에는 멈추지 않고 계속 값을 입력할 수 있도록 해놓았습니다.\n",
    "#문자가 입력되었거나, 음수가 입력되었을 경우에는 자동으로 while문을 빠져나오게 됩니다.\n",
    "\n",
    "while True :\n",
    "    try :\n",
    "        distance = input(\"가야할 거리를 입력하세요 : \")\n",
    "        money = input(\"현재 가진 돈을 입력하세요 : \")\n",
    "\n",
    "        distance = float(distance)\n",
    "        money = int(money)\n",
    "\n",
    "        if distance < 0 or money < 0:\n",
    "            print(\"입력이 제대로 되지 않았습니다.\")\n",
    "            break\n",
    "\n",
    "\n",
    "        if distance <= 2 :\n",
    "            fare = 3000\n",
    "        else :\n",
    "            fare = 3000 + (distance-2)*704\n",
    "\n",
    "        fare = int(fare / 10)*10\n",
    "        print (\"택시 요금은 {:,d}원입니다.\".format(fare))\n",
    "\n",
    "        if money < fare :\n",
    "            print(\"따라서 택시를 탈 수 없습니다.\\n\")\n",
    "        else :\n",
    "            print(\"따라서 택시를 탈 수 있습니다.\\n\")\n",
    "\n",
    "\n",
    "    except ValueError: #character가 입력될 경우\n",
    "        print(\"입력이 제대로 되지 않았습니다.\")\n",
    "        break"
   ]
  },
  {
   "cell_type": "markdown",
   "metadata": {},
   "source": [
    "실행 예 1. 모든 입력 정상 - 택시탈 수 있을 때\n",
    "<pre><code>\n",
    "가야할 거리를 입력하세요 : 5\n",
    "현재 가진 돈을 입력하세요 : 10000\n",
    "택시 요금은 5,110원입니다.\n",
    "따라서 택시를 탈 수 있습니다.\n",
    "</code></pre>\n",
    "실행 예 2. 모든 입력 정상 - 택시탈 수 없을 때\n",
    "<pre><code>\n",
    "가야할 거리를 입력하세요 : 2\n",
    "현재 가진 돈을 입력하세요 : 2500\n",
    "택시 요금은 3,000원입니다.\n",
    "따라서 택시를 탈 수 없습니다.\n",
    "</code></pre>\n",
    "실행 예 3. 입력 오류 - 논리적 오류\n",
    "<pre><code>\n",
    "가야할 거리를 입력하세요 : -2\n",
    "현재 가진 돈을 입력하세요 : 3000\n",
    "입력이 제대로 되지 않았습니다.\n",
    "</code></pre>\n",
    "실행 예 4. 입력 오류 - 런타임 오류\n",
    "<pre><code>\n",
    "가야할 거리를 입력하세요 : a90\n",
    "현재 가진 돈을 입력하세요 : 10000\n",
    "입력이 제대로 되지 않았습니다.\n",
    "</code></pre>"
   ]
  },
  {
   "cell_type": "markdown",
   "metadata": {},
   "source": [
    "### 문제 2.\n",
    "\n",
    "시간(분) m을 입력받아 현재시간으로부터 m분 후의 시간을 출력하는 프로그램을 작성하라.\n",
    "\n",
    "* input() 함수를 한 번 활용해 분 단위 시간을 입력받아 변수 m에 할당한다.\n",
    "* 모든 입력은 1이상의 자연수라고 가정한다.\n",
    "* 현재 시간으로부터 m분 후의 시간을 계산해 \"XX분 뒤 YY시 ZZ분입니다.\"라고 출력한다.\n",
    "* 시간의 표시는 24시간제를 사용한다. 따라서 시간은 0이상 23이하의 값을 갖는다.\n",
    "\n",
    "*문제에 명확하게 언급되지 않았더라도 실행 예시를 참고해 실행 예시와 똑같은 결과가 나오도록 코드를 작성한다. (예. 현재시간표시)"
   ]
  },
  {
   "cell_type": "markdown",
   "metadata": {},
   "source": [
    "<i>참고.</i> 현재 시스템 상 시간을 받아 변수에 저장하는 방법\n",
    "<pre><code>\n",
    "from datetime import datetime\n",
    "now = datetime.now()\n",
    "hour = now.hour\n",
    "minute = now.minute\n",
    "\n",
    "print (\"현재 {}시 {}분입니다.\".format(hour, minute))\n",
    ">>> 현재 20시 59분입니다.\n",
    "</code></pre>\n",
    "\n",
    "**현재 시간을 받아오는 부분 이외에 별도의 모듈, 패키지, 라이브러리 사용은 허용되지 않는다.**"
   ]
  },
  {
   "cell_type": "code",
   "execution_count": 2,
   "metadata": {},
   "outputs": [],
   "source": [
    "from datetime import datetime"
   ]
  },
  {
   "cell_type": "code",
   "execution_count": 3,
   "metadata": {},
   "outputs": [
    {
     "name": "stdout",
     "output_type": "stream",
     "text": [
      "몇 분 뒤의 시간을 알고 싶은신가요 : 27\n",
      "현재 19시 55분입니다.\n",
      "27분 뒤 20시 22분입니다.\n"
     ]
    }
   ],
   "source": [
    "m = int(input(\"몇 분 뒤의 시간을 알고 싶은신가요 : \"))\n",
    "now = datetime.now()\n",
    "hour = now.hour #현재 시간의 시\n",
    "minute = now.minute #현재 시간의 분\n",
    "\n",
    "print (\"현재 {}시 {}분입니다.\".format(hour, minute))\n",
    "hour = hour + (minute + m) // 60\n",
    "minute = (minute + m) % 60\n",
    "print (\"{}분 뒤 {}시 {}분입니다.\".format(m, hour, minute))"
   ]
  },
  {
   "cell_type": "markdown",
   "metadata": {},
   "source": [
    "실행 예 1.\n",
    "<pre><code>\n",
    "몇 분 뒤의 시간을 알고 싶은신가요 : 1\n",
    "현재 20시 59분입니다.\n",
    "1분 뒤 21시 0분입니다.\n",
    "</code></pre>\n",
    "실행 예 2.\n",
    "<pre><code>\n",
    "몇 분 뒤의 시간을 알고 싶은신가요 : 131\n",
    "현재 20시 59분입니다.\n",
    "131분 뒤 23시 10분입니다.\n",
    "</code></pre>\n",
    "실행 예 3.\n",
    "<pre><code>\n",
    "몇 분 뒤의 시간을 알고 싶은신가요 : 181\n",
    "현재 20시 59분입니다.\n",
    "181분 뒤 0시 0분입니다.\n",
    "</code></pre>\n",
    "실행 예 4.\n",
    "<pre><code>\n",
    "몇 분 뒤의 시간을 알고 싶은신가요 : 0\n",
    "현재 20시 59분입니다.\n",
    "0분 뒤 20시 59분입니다.\n",
    "</code></pre>\n",
    "실행 예 5.\n",
    "<pre><code>\n",
    "몇 분 뒤의 시간을 알고 싶은신가요 : 240\n",
    "현재 20시 59분입니다.\n",
    "240분 뒤 0시 59분입니다.\n",
    "</code></pre>"
   ]
  },
  {
   "cell_type": "markdown",
   "metadata": {},
   "source": [
    "### 문제 3.\n",
    "\n",
    "임의의 한국어 문장을 입력 받아 문장의 주어에 해당하는 어절의 목록을 출력하는 함수 get_subjects_kor()를 정의하자.\n",
    "\n",
    "* 입력 받을 전달인자는 임의의 문장이며 문자열 자료형이다.\n",
    "* 처리 결과는 문장에서 주어에 해당하는 어절들을 담은 리스트 자료형으로 반환한다.\n",
    "* 각 어절은 문장 안에서 띄어쓰기로 구분되고 띄어쓰기는 항상 옳다고 가정한다.\n",
    "* 주어 판정은 주격 조사를 기준으로 한다. 주격 조사는 \"은\", \"는\", \"이\", \"가\"로 한정한다.\n",
    "* 따라서 어느 정도의 오류는 허용한다.\n",
    "* 예. \"날고 있는 나비는 아름답다.\"와 같은 문장에서 \"있는\"은 주어가 아니지만 주어로 판정된다.\n",
    "\n",
    "*문제에 명확하게 언급되지 않았더라도 실행 예시를 참고해 실행 예시와 똑같은 결과가 나오도록 코드를 작성한다."
   ]
  },
  {
   "cell_type": "markdown",
   "metadata": {},
   "source": [
    "<i>참고.</i> 문자열이 어떤 문자열로 끝나는지 확인하는 메쏘드 str.endswith()\n",
    "<pre><code>\n",
    "s = \"Butter Fly Effect\"\n",
    "if s.endswith(\"e\"):\n",
    "    print (\"e로 끝납니다.\")\n",
    "elif s.endswith(\"ct\"):\n",
    "    print (\"ct로 끝납니다.\")\n",
    "else:\n",
    "    print (\"e나 ct로 끝나지 않습니다.\")\n",
    ">>> ct로 끝납니다.\n",
    "</code></pre>"
   ]
  },
  {
   "cell_type": "code",
   "execution_count": 4,
   "metadata": {},
   "outputs": [],
   "source": [
    "# 수정 금지\n",
    "test_set = [\"르노 클리오는 해치백이다.\",\n",
    "            \"세금 중 개소세는 개별소비세의 줄임말이다.\",\n",
    "            \"르노 브랜드가 탄생한 국가는 프랑스이다.\",\n",
    "            \"연비를 향상시키는 운전 방법은 정속 주행이다.\",\n",
    "            \"모든 차의 운전자는 철길 건널목 통과 전에는 일시정지해야한다.\",\n",
    "            \"올해 기준 1종 운전면허 필기시험 커트라인 점수는 80점이다.\",\n",
    "            \"르노를 상징하는 엠블럼의 명칭은 로장주이다.\",\n",
    "            \"일반 차량의 국내 고속도로 최고 제한속도는 경찰청 고시 기준 110km/h이다.\",\n",
    "            \"루이 르노의 설립으로 시작된 르노의 역사는 올해로 120주년이다.\",\n",
    "            \"엔진 브레이크는 자동차의 기어를 이용해서 속도를 줄이는 방법이다.\",\n",
    "            \"르노 클리오의 전 세대의 글로벌 판매량은 1400만대 이상이다.\",\n",
    "            \"올해 기준 일반 승용차 자동차 연비 등급 중 1등급은 복합연비 16km/L이상이다.\",\n",
    "            \"신차 안전도 평가 EURO NCAP에서 르노 클리오 4세대가 받은 평가등급은 5 Stars이다.\",\n",
    "            \"눈길에서는 타이어 공기압을 정상 수준보다 10~15% 높게 유지해야 좋다.\",\n",
    "            \"고장난 신차를 교환이나 환불 받을 수 있는 법이 내년 도입될 예정이다.\",\n",
    "            \"레몬법이 바로 그 법이다.\",\n",
    "            \"르노 클리오는 유럽 올해의 차를 2회 수상하였다.\",\n",
    "            \"세계 최초로 자동차 번호판 사용을 의무화한 프랑스\",\n",
    "            \"메간은 국내에 정식 출시된 르노 차량이 아니다.\",\n",
    "            \"택배차량을 분류하는 번호판 문자가 있다.\",\n",
    "            \"최고 연비를 자랑하는 르노 클리오의 연비는 복합연비 기준 17.7km/L이다.\",\n",
    "            \"인제 양양터널\",\n",
    "            \"와이퍼 블레이드 교환 서비스\",\n",
    "            \"2018년 7월 기준 우리나라 자동차 등록 대수는 약 2,290만대\"]\n",
    "answer_set = [['클리오는'], ['개소세는'], ['브랜드가', '국가는'], ['향상시키는', '방법은'],\n",
    "              ['운전자는', '전에는'], ['점수는'], ['상징하는', '명칭은'], ['제한속도는'],\n",
    "              ['루이', '역사는'], ['브레이크는', '줄이는'], ['판매량은'], ['1등급은'],\n",
    "              ['평가', '4세대가', '받은', '평가등급은'], ['눈길에서는'], ['있는', '법이'],\n",
    "              ['레몬법이'], ['클리오는'], [], ['메간은', '차량이'], ['분류하는', '문자가'],\n",
    "              ['자랑하는', '연비는'], [], [], ['대수는']]"
   ]
  },
  {
   "cell_type": "code",
   "execution_count": 7,
   "metadata": {},
   "outputs": [],
   "source": [
    "postposition = [\"은\", \"는\", \"이\", \"가\"] #조사 목록"
   ]
  },
  {
   "cell_type": "code",
   "execution_count": 8,
   "metadata": {},
   "outputs": [
    {
     "name": "stdout",
     "output_type": "stream",
     "text": [
      "클리오는\n"
     ]
    }
   ],
   "source": [
    "sent = test_set[0].split() \n",
    "for word in sent :\n",
    "    for post in postposition :\n",
    "        if word.endswith(post) :\n",
    "            print(word)"
   ]
  },
  {
   "cell_type": "markdown",
   "metadata": {},
   "source": [
    "위의 코드를 list comprehension 형식으로 바꾼 것이 아래 코드입니다."
   ]
  },
  {
   "cell_type": "code",
   "execution_count": 9,
   "metadata": {},
   "outputs": [
    {
     "data": {
      "text/plain": [
       "['클리오는']"
      ]
     },
     "execution_count": 9,
     "metadata": {},
     "output_type": "execute_result"
    }
   ],
   "source": [
    "[ word for word in sent for post in postposition if word.endswith(post) ]"
   ]
  },
  {
   "cell_type": "code",
   "execution_count": 10,
   "metadata": {},
   "outputs": [],
   "source": [
    "def get_subjects_kor(sent):\n",
    "    sent = sent.split() #한 문장을 띄어쓰기단위로 나눈다\n",
    "    postposition = [\"은\", \"는\", \"이\", \"가\"] #조사 목록\n",
    "    \n",
    "    return [ word for word in sent for post in postposition if word.endswith(post) ]"
   ]
  },
  {
   "cell_type": "markdown",
   "metadata": {},
   "source": [
    "get_subjects_kor() 함수가 제대로 정의된 경우 아래 코드를 수행했을 때 정확도가 100.00%가 나와야한다."
   ]
  },
  {
   "cell_type": "code",
   "execution_count": 12,
   "metadata": {},
   "outputs": [
    {
     "name": "stdout",
     "output_type": "stream",
     "text": [
      "정확도 : 100.00%\n"
     ]
    }
   ],
   "source": [
    "# 수정 금지\n",
    "result = {True:0, False:0}\n",
    "for _, sent in enumerate(test_set):\n",
    "    result[get_subjects_kor(sent) == answer_set[_]] += 1\n",
    "\n",
    "print (\"정확도 : {:.2f}%\".format(100 * result[True] / (result[True] + result[False])))"
   ]
  }
 ],
 "metadata": {
  "kernelspec": {
   "display_name": "Python 3",
   "language": "python",
   "name": "python3"
  },
  "language_info": {
   "codemirror_mode": {
    "name": "ipython",
    "version": 3
   },
   "file_extension": ".py",
   "mimetype": "text/x-python",
   "name": "python",
   "nbconvert_exporter": "python",
   "pygments_lexer": "ipython3",
   "version": "3.6.5"
  }
 },
 "nbformat": 4,
 "nbformat_minor": 2
}
